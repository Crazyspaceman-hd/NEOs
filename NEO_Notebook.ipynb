{
 "cells": [
  {
   "cell_type": "code",
   "execution_count": 1,
   "id": "3a7f9093",
   "metadata": {},
   "outputs": [],
   "source": [
    "import json\n",
    "import requests\n",
    "import pandas as pd\n",
    "import pprint\n",
    "import sqlalchemy"
   ]
  },
  {
   "cell_type": "code",
   "execution_count": 11,
   "id": "d75bc6ad",
   "metadata": {},
   "outputs": [],
   "source": [
    "#NASA APIs require a key, limited to 1000 calls per hour\n"
   ]
  },
  {
   "cell_type": "code",
   "execution_count": 3,
   "id": "e061bc68",
   "metadata": {},
   "outputs": [
    {
     "name": "stdout",
     "output_type": "stream",
     "text": [
      "Please enter your birthday(YYYY-MM-DD)1984-06-03\n"
     ]
    }
   ],
   "source": [
    "#Save base URL\n",
    "url=\"https://api.nasa.gov/neo/rest/v1/feed?\"\n",
    "\n",
    "start_date=input(\"Please enter your birthday(YYYY-MM-DD)\")\n",
    "\n",
    "query_url = (f\"{url}start_date={start_date}&end_date={start_date}&api_key={key}\")\n",
    "#query_url = (f\"{url}start_date={start_date}&api_key={key}\")"
   ]
  },
  {
   "cell_type": "code",
   "execution_count": 12,
   "id": "91e7a753",
   "metadata": {},
   "outputs": [],
   "source": [
    "query_url = (f\"{url}start_date={start_date}&end_date={start_date}&api_key={key}\")"
   ]
  },
  {
   "cell_type": "code",
   "execution_count": 13,
   "id": "551d062b",
   "metadata": {},
   "outputs": [
    {
     "name": "stdout",
     "output_type": "stream",
     "text": [
      "{'element_count': 3,\n",
      " 'links': {'next': 'http://www.neowsapp.com/rest/v1/feed?start_date=1984-06-04&end_date=1984-06-04&detailed=false&api_key=hvh2baEGpClLHlzy5nztSiWFb3FMVy9dghb9V5Z0',\n",
      "           'prev': 'http://www.neowsapp.com/rest/v1/feed?start_date=1984-06-02&end_date=1984-06-02&detailed=false&api_key=hvh2baEGpClLHlzy5nztSiWFb3FMVy9dghb9V5Z0',\n",
      "           'self': 'http://www.neowsapp.com/rest/v1/feed?start_date=1984-06-03&end_date=1984-06-03&detailed=false&api_key=hvh2baEGpClLHlzy5nztSiWFb3FMVy9dghb9V5Z0'},\n",
      " 'near_earth_objects': {'1984-06-03': [{'absolute_magnitude_h': 23.64,\n",
      "                                        'close_approach_data': [{'close_approach_date': '1984-06-03',\n",
      "                                                                 'close_approach_date_full': '1984-Jun-03 '\n",
      "                                                                                             '06:06',\n",
      "                                                                 'epoch_date_close_approach': 455090760000,\n",
      "                                                                 'miss_distance': {'astronomical': '0.1845750953',\n",
      "                                                                                   'kilometers': '27612041.111927011',\n",
      "                                                                                   'lunar': '71.7997120717',\n",
      "                                                                                   'miles': '17157326.7511383118'},\n",
      "                                                                 'orbiting_body': 'Earth',\n",
      "                                                                 'relative_velocity': {'kilometers_per_hour': '73087.9151469851',\n",
      "                                                                                       'kilometers_per_second': '20.3021986519',\n",
      "                                                                                       'miles_per_hour': '45413.9881645253'}}],\n",
      "                                        'estimated_diameter': {'feet': {'estimated_diameter_max': 364.7749696566,\n",
      "                                                                        'estimated_diameter_min': 163.1323257285},\n",
      "                                                               'kilometers': {'estimated_diameter_max': 0.1111834072,\n",
      "                                                                              'estimated_diameter_min': 0.0497227313},\n",
      "                                                               'meters': {'estimated_diameter_max': 111.1834071935,\n",
      "                                                                          'estimated_diameter_min': 49.7227312909},\n",
      "                                                               'miles': {'estimated_diameter_max': 0.0690861449,\n",
      "                                                                         'estimated_diameter_min': 0.0308962633}},\n",
      "                                        'id': '3435027',\n",
      "                                        'is_potentially_hazardous_asteroid': False,\n",
      "                                        'is_sentry_object': False,\n",
      "                                        'links': {'self': 'http://www.neowsapp.com/rest/v1/neo/3435027?api_key=hvh2baEGpClLHlzy5nztSiWFb3FMVy9dghb9V5Z0'},\n",
      "                                        'name': '(2008 UU95)',\n",
      "                                        'nasa_jpl_url': 'http://ssd.jpl.nasa.gov/sbdb.cgi?sstr=3435027',\n",
      "                                        'neo_reference_id': '3435027'},\n",
      "                                       {'absolute_magnitude_h': 25.8,\n",
      "                                        'close_approach_data': [{'close_approach_date': '1984-06-03',\n",
      "                                                                 'close_approach_date_full': '1984-Jun-03 '\n",
      "                                                                                             '19:25',\n",
      "                                                                 'epoch_date_close_approach': 455138700000,\n",
      "                                                                 'miss_distance': {'astronomical': '0.2955541378',\n",
      "                                                                                   'kilometers': '44214269.484566486',\n",
      "                                                                                   'lunar': '114.9705596042',\n",
      "                                                                                   'miles': '27473473.0958340668'},\n",
      "                                                                 'orbiting_body': 'Earth',\n",
      "                                                                 'relative_velocity': {'kilometers_per_hour': '62650.888733034',\n",
      "                                                                                       'kilometers_per_second': '17.4030246481',\n",
      "                                                                                       'miles_per_hour': '38928.8258352566'}}],\n",
      "                                        'estimated_diameter': {'feet': {'estimated_diameter_max': 134.9040630575,\n",
      "                                                                        'estimated_diameter_min': 60.3309310875},\n",
      "                                                               'kilometers': {'estimated_diameter_max': 0.0411187571,\n",
      "                                                                              'estimated_diameter_min': 0.0183888672},\n",
      "                                                               'meters': {'estimated_diameter_max': 41.1187571041,\n",
      "                                                                          'estimated_diameter_min': 18.388867207},\n",
      "                                                               'miles': {'estimated_diameter_max': 0.0255500032,\n",
      "                                                                         'estimated_diameter_min': 0.0114263088}},\n",
      "                                        'id': '3694462',\n",
      "                                        'is_potentially_hazardous_asteroid': False,\n",
      "                                        'is_sentry_object': False,\n",
      "                                        'links': {'self': 'http://www.neowsapp.com/rest/v1/neo/3694462?api_key=hvh2baEGpClLHlzy5nztSiWFb3FMVy9dghb9V5Z0'},\n",
      "                                        'name': '(2014 UD57)',\n",
      "                                        'nasa_jpl_url': 'http://ssd.jpl.nasa.gov/sbdb.cgi?sstr=3694462',\n",
      "                                        'neo_reference_id': '3694462'},\n",
      "                                       {'absolute_magnitude_h': 23.5,\n",
      "                                        'close_approach_data': [{'close_approach_date': '1984-06-03',\n",
      "                                                                 'close_approach_date_full': '1984-Jun-03 '\n",
      "                                                                                             '09:41',\n",
      "                                                                 'epoch_date_close_approach': 455103660000,\n",
      "                                                                 'miss_distance': {'astronomical': '0.1665275058',\n",
      "                                                                                   'kilometers': '24912160.164092646',\n",
      "                                                                                   'lunar': '64.7791997562',\n",
      "                                                                                   'miles': '15479698.5228086748'},\n",
      "                                                                 'orbiting_body': 'Earth',\n",
      "                                                                 'relative_velocity': {'kilometers_per_hour': '15449.6889825418',\n",
      "                                                                                       'kilometers_per_second': '4.2915802729',\n",
      "                                                                                       'miles_per_hour': '9599.8359125132'}}],\n",
      "                                        'estimated_diameter': {'feet': {'estimated_diameter_max': 389.0675677576,\n",
      "                                                                        'estimated_diameter_min': 173.9963058693},\n",
      "                                                               'kilometers': {'estimated_diameter_max': 0.1185877909,\n",
      "                                                                              'estimated_diameter_min': 0.0530340723},\n",
      "                                                               'meters': {'estimated_diameter_max': 118.5877908577,\n",
      "                                                                          'estimated_diameter_min': 53.0340723319},\n",
      "                                                               'miles': {'estimated_diameter_max': 0.0736870142,\n",
      "                                                                         'estimated_diameter_min': 0.0329538346}},\n",
      "                                        'id': '3703541',\n",
      "                                        'is_potentially_hazardous_asteroid': False,\n",
      "                                        'is_sentry_object': False,\n",
      "                                        'links': {'self': 'http://www.neowsapp.com/rest/v1/neo/3703541?api_key=hvh2baEGpClLHlzy5nztSiWFb3FMVy9dghb9V5Z0'},\n",
      "                                        'name': '(2015 AD44)',\n",
      "                                        'nasa_jpl_url': 'http://ssd.jpl.nasa.gov/sbdb.cgi?sstr=3703541',\n",
      "                                        'neo_reference_id': '3703541'}]}}\n"
     ]
    }
   ],
   "source": [
    "neo_response= requests.get(query_url)\n",
    "neo_json = neo_response.json()\n",
    "pprint.pprint(neo_json)"
   ]
  },
  {
   "cell_type": "code",
   "execution_count": 14,
   "id": "d4b64734",
   "metadata": {},
   "outputs": [
    {
     "name": "stdout",
     "output_type": "stream",
     "text": [
      "3\n"
     ]
    }
   ],
   "source": [
    "neo_data=neo_json['near_earth_objects']\n",
    "for key in neo_data.keys():\n",
    "    print(len(neo_json['near_earth_objects'][key]))"
   ]
  },
  {
   "cell_type": "code",
   "execution_count": 15,
   "id": "97753b07",
   "metadata": {},
   "outputs": [
    {
     "name": "stdout",
     "output_type": "stream",
     "text": [
      "1984-06-03\n",
      "71.7997120717\n",
      "163.1323257285\n",
      "False\n",
      "114.9705596042\n",
      "60.3309310875\n",
      "False\n",
      "64.7791997562\n",
      "173.9963058693\n",
      "False\n"
     ]
    }
   ],
   "source": [
    "miss = []\n",
    "avg_diam = []\n",
    "haz = []\n",
    "for date in neo_data.keys():\n",
    "    neo_date=neo_json['near_earth_objects'][date]\n",
    "    print(date)\n",
    "    x=0\n",
    "    while x < len(neo_date):\n",
    "        print(neo_date[x]['close_approach_data'][0]['miss_distance']['lunar'])\n",
    "        print((neo_date[x]['estimated_diameter']['feet']['estimated_diameter_min']+neo_date[x]['estimated_diameter']['feet']['estimated_diameter_min'])/2)\n",
    "        print(neo_date[x]['is_potentially_hazardous_asteroid'])\n",
    "        x += 1"
   ]
  },
  {
   "cell_type": "code",
   "execution_count": 53,
   "id": "fd658bf3",
   "metadata": {},
   "outputs": [
    {
     "name": "stdout",
     "output_type": "stream",
     "text": [
      "161.5788187071\n",
      "1082.7795076085\n",
      "False\n",
      "125.9053600294\n",
      "5476.9657845995\n",
      "True\n",
      "103.0210471552\n",
      "1654.0172243784\n",
      "False\n",
      "168.8658742505\n",
      "795.3165644948\n",
      "True\n",
      "190.5930872136\n",
      "457.6569140361\n",
      "True\n",
      "41.1546916525\n",
      "363.5298086356\n",
      "True\n",
      "161.7280673096\n",
      "1048.4314204307\n",
      "False\n",
      "33.7028132692\n",
      "114.9582192654\n",
      "False\n",
      "127.4511742589\n",
      "114.9582192654\n",
      "False\n",
      "155.6729207341\n",
      "550.2246310023\n",
      "False\n",
      "169.5962836015\n",
      "91.3145593761\n",
      "False\n",
      "135.0475974567\n",
      "29.5488121994\n",
      "False\n"
     ]
    }
   ],
   "source": [
    "for x in range(neo_json['element_count']):\n",
    "    print(neo_json['near_earth_objects'][start_date][x]['close_approach_data'][0]['miss_distance']['lunar'])\n",
    "    print((neo_json['near_earth_objects'][start_date][x]['estimated_diameter']['feet']['estimated_diameter_min']+neo_json['near_earth_objects'][start_date][x]['estimated_diameter']['feet']['estimated_diameter_min'])/2)\n",
    "    print(neo_json['near_earth_objects'][start_date][x]['is_potentially_hazardous_asteroid'])"
   ]
  },
  {
   "cell_type": "code",
   "execution_count": 20,
   "id": "df45156f",
   "metadata": {},
   "outputs": [],
   "source": [
    "miss_distance=\n",
    "\n"
   ]
  },
  {
   "cell_type": "code",
   "execution_count": 21,
   "id": "cf24d3d9",
   "metadata": {},
   "outputs": [
    {
     "name": "stdout",
     "output_type": "stream",
     "text": [
      "133.1412573659\n"
     ]
    }
   ],
   "source": [
    "print(miss_distance)"
   ]
  }
 ],
 "metadata": {
  "kernelspec": {
   "display_name": "Python 3 (ipykernel)",
   "language": "python",
   "name": "python3"
  },
  "language_info": {
   "codemirror_mode": {
    "name": "ipython",
    "version": 3
   },
   "file_extension": ".py",
   "mimetype": "text/x-python",
   "name": "python",
   "nbconvert_exporter": "python",
   "pygments_lexer": "ipython3",
   "version": "3.7.11"
  }
 },
 "nbformat": 4,
 "nbformat_minor": 5
}
